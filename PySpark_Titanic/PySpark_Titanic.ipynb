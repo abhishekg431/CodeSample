{
 "cells": [
  {
   "cell_type": "code",
   "execution_count": 1,
   "metadata": {},
   "outputs": [
    {
     "data": {
      "text/html": [
       "<style scoped>\n",
       "  .ansiout {\n",
       "    display: block;\n",
       "    unicode-bidi: embed;\n",
       "    white-space: pre-wrap;\n",
       "    word-wrap: break-word;\n",
       "    word-break: break-all;\n",
       "    font-family: \"Source Code Pro\", \"Menlo\", monospace;;\n",
       "    font-size: 13px;\n",
       "    color: #555;\n",
       "    margin-left: 4px;\n",
       "    line-height: 19px;\n",
       "  }\n",
       "</style>\n",
       "<div class=\"ansiout\"></div>"
      ]
     },
     "metadata": {},
     "output_type": "display_data"
    }
   ],
   "source": [
    "from pyspark.sql import SparkSession"
   ]
  },
  {
   "cell_type": "code",
   "execution_count": 2,
   "metadata": {},
   "outputs": [
    {
     "data": {
      "text/html": [
       "<style scoped>\n",
       "  .ansiout {\n",
       "    display: block;\n",
       "    unicode-bidi: embed;\n",
       "    white-space: pre-wrap;\n",
       "    word-wrap: break-word;\n",
       "    word-break: break-all;\n",
       "    font-family: \"Source Code Pro\", \"Menlo\", monospace;;\n",
       "    font-size: 13px;\n",
       "    color: #555;\n",
       "    margin-left: 4px;\n",
       "    line-height: 19px;\n",
       "  }\n",
       "</style>\n",
       "<div class=\"ansiout\"></div>"
      ]
     },
     "metadata": {},
     "output_type": "display_data"
    }
   ],
   "source": [
    "df = spark.read.csv('dbfs:/FileStore/tables/train.csv', inferSchema=True, header=True)"
   ]
  },
  {
   "cell_type": "code",
   "execution_count": 3,
   "metadata": {},
   "outputs": [
    {
     "data": {
      "text/html": [
       "<style scoped>\n",
       "  .ansiout {\n",
       "    display: block;\n",
       "    unicode-bidi: embed;\n",
       "    white-space: pre-wrap;\n",
       "    word-wrap: break-word;\n",
       "    word-break: break-all;\n",
       "    font-family: \"Source Code Pro\", \"Menlo\", monospace;;\n",
       "    font-size: 13px;\n",
       "    color: #555;\n",
       "    margin-left: 4px;\n",
       "    line-height: 19px;\n",
       "  }\n",
       "</style>\n",
       "<div class=\"ansiout\">root\n",
       "-- PassengerId: integer (nullable = true)\n",
       "-- Survived: integer (nullable = true)\n",
       "-- Pclass: integer (nullable = true)\n",
       "-- Name: string (nullable = true)\n",
       "-- Sex: string (nullable = true)\n",
       "-- Age: double (nullable = true)\n",
       "-- SibSp: integer (nullable = true)\n",
       "-- Parch: integer (nullable = true)\n",
       "-- Ticket: string (nullable = true)\n",
       "-- Fare: double (nullable = true)\n",
       "-- Cabin: string (nullable = true)\n",
       "-- Embarked: string (nullable = true)\n",
       "\n",
       "</div>"
      ]
     },
     "metadata": {},
     "output_type": "display_data"
    }
   ],
   "source": [
    "df.printSchema()"
   ]
  },
  {
   "cell_type": "code",
   "execution_count": 4,
   "metadata": {},
   "outputs": [
    {
     "data": {
      "text/html": [
       "<style scoped>\n",
       "  .ansiout {\n",
       "    display: block;\n",
       "    unicode-bidi: embed;\n",
       "    white-space: pre-wrap;\n",
       "    word-wrap: break-word;\n",
       "    word-break: break-all;\n",
       "    font-family: \"Source Code Pro\", \"Menlo\", monospace;;\n",
       "    font-size: 13px;\n",
       "    color: #555;\n",
       "    margin-left: 4px;\n",
       "    line-height: 19px;\n",
       "  }\n",
       "</style>\n",
       "<div class=\"ansiout\">891 12\n",
       "</div>"
      ]
     },
     "metadata": {},
     "output_type": "display_data"
    }
   ],
   "source": [
    "print(df.count(), len(df.columns))"
   ]
  },
  {
   "cell_type": "code",
   "execution_count": 5,
   "metadata": {},
   "outputs": [
    {
     "data": {
      "text/html": [
       "<style scoped>\n",
       "  .ansiout {\n",
       "    display: block;\n",
       "    unicode-bidi: embed;\n",
       "    white-space: pre-wrap;\n",
       "    word-wrap: break-word;\n",
       "    word-break: break-all;\n",
       "    font-family: \"Source Code Pro\", \"Menlo\", monospace;;\n",
       "    font-size: 13px;\n",
       "    color: #555;\n",
       "    margin-left: 4px;\n",
       "    line-height: 19px;\n",
       "  }\n",
       "</style>\n",
       "<div class=\"ansiout\">+-----------+--------+------+--------------------+------+----+-----+-----+----------------+-------+-----+--------+\n",
       "PassengerId|Survived|Pclass|                Name|   Sex| Age|SibSp|Parch|          Ticket|   Fare|Cabin|Embarked|\n",
       "+-----------+--------+------+--------------------+------+----+-----+-----+----------------+-------+-----+--------+\n",
       "          1|       0|     3|Braund, Mr. Owen ...|  male|22.0|    1|    0|       A/5 21171|   7.25| null|       S|\n",
       "          2|       1|     1|Cumings, Mrs. Joh...|female|38.0|    1|    0|        PC 17599|71.2833|  C85|       C|\n",
       "          3|       1|     3|Heikkinen, Miss. ...|female|26.0|    0|    0|STON/O2. 3101282|  7.925| null|       S|\n",
       "          4|       1|     1|Futrelle, Mrs. Ja...|female|35.0|    1|    0|          113803|   53.1| C123|       S|\n",
       "          5|       0|     3|Allen, Mr. Willia...|  male|35.0|    0|    0|          373450|   8.05| null|       S|\n",
       "          6|       0|     3|    Moran, Mr. James|  male|null|    0|    0|          330877| 8.4583| null|       Q|\n",
       "          7|       0|     1|McCarthy, Mr. Tim...|  male|54.0|    0|    0|           17463|51.8625|  E46|       S|\n",
       "          8|       0|     3|Palsson, Master. ...|  male| 2.0|    3|    1|          349909| 21.075| null|       S|\n",
       "          9|       1|     3|Johnson, Mrs. Osc...|female|27.0|    0|    2|          347742|11.1333| null|       S|\n",
       "         10|       1|     2|Nasser, Mrs. Nich...|female|14.0|    1|    0|          237736|30.0708| null|       C|\n",
       "         11|       1|     3|Sandstrom, Miss. ...|female| 4.0|    1|    1|         PP 9549|   16.7|   G6|       S|\n",
       "         12|       1|     1|Bonnell, Miss. El...|female|58.0|    0|    0|          113783|  26.55| C103|       S|\n",
       "         13|       0|     3|Saundercock, Mr. ...|  male|20.0|    0|    0|       A/5. 2151|   8.05| null|       S|\n",
       "         14|       0|     3|Andersson, Mr. An...|  male|39.0|    1|    5|          347082| 31.275| null|       S|\n",
       "         15|       0|     3|Vestrom, Miss. Hu...|female|14.0|    0|    0|          350406| 7.8542| null|       S|\n",
       "         16|       1|     2|Hewlett, Mrs. (Ma...|female|55.0|    0|    0|          248706|   16.0| null|       S|\n",
       "         17|       0|     3|Rice, Master. Eugene|  male| 2.0|    4|    1|          382652| 29.125| null|       Q|\n",
       "         18|       1|     2|Williams, Mr. Cha...|  male|null|    0|    0|          244373|   13.0| null|       S|\n",
       "         19|       0|     3|Vander Planke, Mr...|female|31.0|    1|    0|          345763|   18.0| null|       S|\n",
       "         20|       1|     3|Masselmani, Mrs. ...|female|null|    0|    0|            2649|  7.225| null|       C|\n",
       "+-----------+--------+------+--------------------+------+----+-----+-----+----------------+-------+-----+--------+\n",
       "only showing top 20 rows\n",
       "\n",
       "</div>"
      ]
     },
     "metadata": {},
     "output_type": "display_data"
    }
   ],
   "source": [
    "df.show()"
   ]
  },
  {
   "cell_type": "code",
   "execution_count": 6,
   "metadata": {},
   "outputs": [
    {
     "data": {
      "text/html": [
       "<style scoped>\n",
       "  .ansiout {\n",
       "    display: block;\n",
       "    unicode-bidi: embed;\n",
       "    white-space: pre-wrap;\n",
       "    word-wrap: break-word;\n",
       "    word-break: break-all;\n",
       "    font-family: \"Source Code Pro\", \"Menlo\", monospace;;\n",
       "    font-size: 13px;\n",
       "    color: #555;\n",
       "    margin-left: 4px;\n",
       "    line-height: 19px;\n",
       "  }\n",
       "</style>\n",
       "<div class=\"ansiout\"></div>"
      ]
     },
     "metadata": {},
     "output_type": "display_data"
    }
   ],
   "source": [
    "df = df.drop('PassengerId', 'Name', 'Ticket', 'Cabin', 'Embarked', 'Sex')"
   ]
  },
  {
   "cell_type": "code",
   "execution_count": 7,
   "metadata": {},
   "outputs": [
    {
     "data": {
      "text/html": [
       "<style scoped>\n",
       "  .ansiout {\n",
       "    display: block;\n",
       "    unicode-bidi: embed;\n",
       "    white-space: pre-wrap;\n",
       "    word-wrap: break-word;\n",
       "    word-break: break-all;\n",
       "    font-family: \"Source Code Pro\", \"Menlo\", monospace;;\n",
       "    font-size: 13px;\n",
       "    color: #555;\n",
       "    margin-left: 4px;\n",
       "    line-height: 19px;\n",
       "  }\n",
       "</style>\n",
       "<div class=\"ansiout\">+--------+------+----+-----+-----+-------+\n",
       "Survived|Pclass| Age|SibSp|Parch|   Fare|\n",
       "+--------+------+----+-----+-----+-------+\n",
       "       0|     3|22.0|    1|    0|   7.25|\n",
       "       1|     1|38.0|    1|    0|71.2833|\n",
       "       1|     3|26.0|    0|    0|  7.925|\n",
       "       1|     1|35.0|    1|    0|   53.1|\n",
       "       0|     3|35.0|    0|    0|   8.05|\n",
       "       0|     3|null|    0|    0| 8.4583|\n",
       "       0|     1|54.0|    0|    0|51.8625|\n",
       "       0|     3| 2.0|    3|    1| 21.075|\n",
       "       1|     3|27.0|    0|    2|11.1333|\n",
       "       1|     2|14.0|    1|    0|30.0708|\n",
       "       1|     3| 4.0|    1|    1|   16.7|\n",
       "       1|     1|58.0|    0|    0|  26.55|\n",
       "       0|     3|20.0|    0|    0|   8.05|\n",
       "       0|     3|39.0|    1|    5| 31.275|\n",
       "       0|     3|14.0|    0|    0| 7.8542|\n",
       "       1|     2|55.0|    0|    0|   16.0|\n",
       "       0|     3| 2.0|    4|    1| 29.125|\n",
       "       1|     2|null|    0|    0|   13.0|\n",
       "       0|     3|31.0|    1|    0|   18.0|\n",
       "       1|     3|null|    0|    0|  7.225|\n",
       "+--------+------+----+-----+-----+-------+\n",
       "only showing top 20 rows\n",
       "\n",
       "</div>"
      ]
     },
     "metadata": {},
     "output_type": "display_data"
    }
   ],
   "source": [
    "df.show()"
   ]
  },
  {
   "cell_type": "code",
   "execution_count": 8,
   "metadata": {},
   "outputs": [
    {
     "data": {
      "text/html": [
       "<style scoped>\n",
       "  .ansiout {\n",
       "    display: block;\n",
       "    unicode-bidi: embed;\n",
       "    white-space: pre-wrap;\n",
       "    word-wrap: break-word;\n",
       "    word-break: break-all;\n",
       "    font-family: \"Source Code Pro\", \"Menlo\", monospace;;\n",
       "    font-size: 13px;\n",
       "    color: #555;\n",
       "    margin-left: 4px;\n",
       "    line-height: 19px;\n",
       "  }\n",
       "</style>\n",
       "<div class=\"ansiout\"></div>"
      ]
     },
     "metadata": {},
     "output_type": "display_data"
    }
   ],
   "source": [
    "dftrain, dftest = df.randomSplit([0.8,0.2])"
   ]
  },
  {
   "cell_type": "code",
   "execution_count": 9,
   "metadata": {},
   "outputs": [
    {
     "data": {
      "text/html": [
       "<style scoped>\n",
       "  .ansiout {\n",
       "    display: block;\n",
       "    unicode-bidi: embed;\n",
       "    white-space: pre-wrap;\n",
       "    word-wrap: break-word;\n",
       "    word-break: break-all;\n",
       "    font-family: \"Source Code Pro\", \"Menlo\", monospace;;\n",
       "    font-size: 13px;\n",
       "    color: #555;\n",
       "    margin-left: 4px;\n",
       "    line-height: 19px;\n",
       "  }\n",
       "</style>\n",
       "<div class=\"ansiout\">+-------+-------------------+------------------+------------------+-----------------+------------------+------------------+\n",
       "summary|           Survived|            Pclass|               Age|            SibSp|             Parch|              Fare|\n",
       "+-------+-------------------+------------------+------------------+-----------------+------------------+------------------+\n",
       "  count|                727|               727|               588|              727|               727|               727|\n",
       "   mean|0.39614855570839064| 2.298486932599725|29.540544217687074|0.517193947730399|0.3603851444291609|31.691476891334236|\n",
       " stddev|0.48943270691180674|0.8399694468615895|14.328288279431165|1.088086674439493|0.7529364847595303|47.923686304363954|\n",
       "    min|                  0|                 1|              0.42|                0|                 0|               0.0|\n",
       "    max|                  1|                 3|              80.0|                8|                 5|          512.3292|\n",
       "+-------+-------------------+------------------+------------------+-----------------+------------------+------------------+\n",
       "\n",
       "</div>"
      ]
     },
     "metadata": {},
     "output_type": "display_data"
    }
   ],
   "source": [
    "dftrain.describe().show()\n",
    "#df.describe('Age').show"
   ]
  },
  {
   "cell_type": "code",
   "execution_count": 10,
   "metadata": {},
   "outputs": [
    {
     "data": {
      "text/html": [
       "<style scoped>\n",
       "  .ansiout {\n",
       "    display: block;\n",
       "    unicode-bidi: embed;\n",
       "    white-space: pre-wrap;\n",
       "    word-wrap: break-word;\n",
       "    word-break: break-all;\n",
       "    font-family: \"Source Code Pro\", \"Menlo\", monospace;;\n",
       "    font-size: 13px;\n",
       "    color: #555;\n",
       "    margin-left: 4px;\n",
       "    line-height: 19px;\n",
       "  }\n",
       "</style>\n",
       "<div class=\"ansiout\">+-------+------------------+\n",
       "summary|               Age|\n",
       "+-------+------------------+\n",
       "  count|               714|\n",
       "   mean| 29.69911764705882|\n",
       " stddev|14.526497332334035|\n",
       "    min|              0.42|\n",
       "    max|              80.0|\n",
       "+-------+------------------+\n",
       "\n",
       "</div>"
      ]
     },
     "metadata": {},
     "output_type": "display_data"
    }
   ],
   "source": [
    "df.describe('Age').show()"
   ]
  },
  {
   "cell_type": "code",
   "execution_count": 11,
   "metadata": {},
   "outputs": [
    {
     "data": {
      "text/html": [
       "<style scoped>\n",
       "  .ansiout {\n",
       "    display: block;\n",
       "    unicode-bidi: embed;\n",
       "    white-space: pre-wrap;\n",
       "    word-wrap: break-word;\n",
       "    word-break: break-all;\n",
       "    font-family: \"Source Code Pro\", \"Menlo\", monospace;;\n",
       "    font-size: 13px;\n",
       "    color: #555;\n",
       "    margin-left: 4px;\n",
       "    line-height: 19px;\n",
       "  }\n",
       "</style>\n",
       "<div class=\"ansiout\">+----+------+\n",
       " Age|Pclass|\n",
       "+----+------+\n",
       "null|     1|\n",
       "null|     1|\n",
       "null|     1|\n",
       "null|     1|\n",
       "null|     1|\n",
       "null|     1|\n",
       "null|     1|\n",
       "null|     1|\n",
       "null|     1|\n",
       "null|     1|\n",
       "null|     1|\n",
       "null|     1|\n",
       "18.0|     1|\n",
       "19.0|     1|\n",
       "19.0|     1|\n",
       "22.0|     1|\n",
       "24.0|     1|\n",
       "24.0|     1|\n",
       "25.0|     1|\n",
       "27.0|     1|\n",
       "+----+------+\n",
       "only showing top 20 rows\n",
       "\n",
       "</div>"
      ]
     },
     "metadata": {},
     "output_type": "display_data"
    }
   ],
   "source": [
    "dftrain.select('Age', 'Pclass').show()"
   ]
  },
  {
   "cell_type": "code",
   "execution_count": 12,
   "metadata": {},
   "outputs": [
    {
     "data": {
      "text/html": [
       "<style scoped>\n",
       "  .ansiout {\n",
       "    display: block;\n",
       "    unicode-bidi: embed;\n",
       "    white-space: pre-wrap;\n",
       "    word-wrap: break-word;\n",
       "    word-break: break-all;\n",
       "    font-family: \"Source Code Pro\", \"Menlo\", monospace;;\n",
       "    font-size: 13px;\n",
       "    color: #555;\n",
       "    margin-left: 4px;\n",
       "    line-height: 19px;\n",
       "  }\n",
       "</style>\n",
       "<div class=\"ansiout\">+------+-----+\n",
       "Pclass|count|\n",
       "+------+-----+\n",
       "     1|  180|\n",
       "     3|  397|\n",
       "     2|  150|\n",
       "+------+-----+\n",
       "\n",
       "</div>"
      ]
     },
     "metadata": {},
     "output_type": "display_data"
    }
   ],
   "source": [
    "dftrain.groupby('Pclass').count().show()"
   ]
  },
  {
   "cell_type": "code",
   "execution_count": 13,
   "metadata": {},
   "outputs": [
    {
     "data": {
      "text/html": [
       "<style scoped>\n",
       "  .ansiout {\n",
       "    display: block;\n",
       "    unicode-bidi: embed;\n",
       "    white-space: pre-wrap;\n",
       "    word-wrap: break-word;\n",
       "    word-break: break-all;\n",
       "    font-family: \"Source Code Pro\", \"Menlo\", monospace;;\n",
       "    font-size: 13px;\n",
       "    color: #555;\n",
       "    margin-left: 4px;\n",
       "    line-height: 19px;\n",
       "  }\n",
       "</style>\n",
       "<div class=\"ansiout\">+------+-----+\n",
       "Pclass|count|\n",
       "+------+-----+\n",
       "     1|  180|\n",
       "     3|  397|\n",
       "     2|  150|\n",
       "+------+-----+\n",
       "\n",
       "</div>"
      ]
     },
     "metadata": {},
     "output_type": "display_data"
    }
   ],
   "source": [
    "dftrain.groupBy('Pclass').count().show()"
   ]
  },
  {
   "cell_type": "code",
   "execution_count": 14,
   "metadata": {},
   "outputs": [
    {
     "data": {
      "text/html": [
       "<style scoped>\n",
       "  .ansiout {\n",
       "    display: block;\n",
       "    unicode-bidi: embed;\n",
       "    white-space: pre-wrap;\n",
       "    word-wrap: break-word;\n",
       "    word-break: break-all;\n",
       "    font-family: \"Source Code Pro\", \"Menlo\", monospace;;\n",
       "    font-size: 13px;\n",
       "    color: #555;\n",
       "    margin-left: 4px;\n",
       "    line-height: 19px;\n",
       "  }\n",
       "</style>\n",
       "<div class=\"ansiout\">+--------+------+-----+-----+--------+------+\n",
       "Survived|Pclass|SibSp|Parch|    Fare|impAge|\n",
       "+--------+------+-----+-----+--------+------+\n",
       "       0|     1|    0|    0|     0.0|  28.0|\n",
       "       0|     1|    0|    0|     0.0|  28.0|\n",
       "       0|     1|    0|    0|  25.925|  28.0|\n",
       "       0|     1|    0|    0|   26.55|  28.0|\n",
       "       0|     1|    0|    0| 27.7208|  28.0|\n",
       "       0|     1|    0|    0| 27.7208|  28.0|\n",
       "       0|     1|    0|    0| 30.6958|  28.0|\n",
       "       0|     1|    0|    0|    35.0|  28.0|\n",
       "       0|     1|    0|    0|    39.6|  28.0|\n",
       "       0|     1|    0|    0|    42.4|  28.0|\n",
       "       0|     1|    0|    0|    50.0|  28.0|\n",
       "       0|     1|    0|    0| 227.525|  28.0|\n",
       "       0|     1|    1|    0|   108.9|  18.0|\n",
       "       0|     1|    1|    0|    53.1|  19.0|\n",
       "       0|     1|    3|    2|   263.0|  19.0|\n",
       "       0|     1|    0|    0|135.6333|  22.0|\n",
       "       0|     1|    0|    0|    79.2|  24.0|\n",
       "       0|     1|    0|    1|247.5208|  24.0|\n",
       "       0|     1|    1|    2|  151.55|  25.0|\n",
       "       0|     1|    0|    2|   211.5|  27.0|\n",
       "+--------+------+-----+-----+--------+------+\n",
       "only showing top 20 rows\n",
       "\n",
       "</div>"
      ]
     },
     "metadata": {},
     "output_type": "display_data"
    }
   ],
   "source": [
    "from pyspark.ml.feature import Imputer\n",
    "impage = Imputer(strategy='median', inputCols=['Age'], outputCols=['impAge']).fit(dftrain)\n",
    "dftrain=impage.transform(dftrain)\n",
    "dftrain=dftrain.drop('Age')\n",
    "dftrain.show()"
   ]
  },
  {
   "cell_type": "code",
   "execution_count": 15,
   "metadata": {},
   "outputs": [
    {
     "data": {
      "text/html": [
       "<style scoped>\n",
       "  .ansiout {\n",
       "    display: block;\n",
       "    unicode-bidi: embed;\n",
       "    white-space: pre-wrap;\n",
       "    word-wrap: break-word;\n",
       "    word-break: break-all;\n",
       "    font-family: \"Source Code Pro\", \"Menlo\", monospace;;\n",
       "    font-size: 13px;\n",
       "    color: #555;\n",
       "    margin-left: 4px;\n",
       "    line-height: 19px;\n",
       "  }\n",
       "</style>\n",
       "<div class=\"ansiout\"></div>"
      ]
     },
     "metadata": {},
     "output_type": "display_data"
    }
   ],
   "source": [
    "from pyspark.ml.feature import StringIndexer\n",
    "sipclass = StringIndexer(handleInvalid='keep', inputCol='Pclass', outputCol='idxPclass').fit(dftrain)\n",
    "dftrain=sipclass.transform(dftrain)\n",
    "dftrain=dftrain.drop('Pclass')"
   ]
  },
  {
   "cell_type": "code",
   "execution_count": 16,
   "metadata": {},
   "outputs": [
    {
     "data": {
      "text/html": [
       "<style scoped>\n",
       "  .ansiout {\n",
       "    display: block;\n",
       "    unicode-bidi: embed;\n",
       "    white-space: pre-wrap;\n",
       "    word-wrap: break-word;\n",
       "    word-break: break-all;\n",
       "    font-family: \"Source Code Pro\", \"Menlo\", monospace;;\n",
       "    font-size: 13px;\n",
       "    color: #555;\n",
       "    margin-left: 4px;\n",
       "    line-height: 19px;\n",
       "  }\n",
       "</style>\n",
       "<div class=\"ansiout\">+--------+-----+-----+--------+------+---------+\n",
       "Survived|SibSp|Parch|    Fare|impAge|idxPclass|\n",
       "+--------+-----+-----+--------+------+---------+\n",
       "       0|    0|    0|     0.0|  28.0|      1.0|\n",
       "       0|    0|    0|     0.0|  28.0|      1.0|\n",
       "       0|    0|    0|  25.925|  28.0|      1.0|\n",
       "       0|    0|    0|   26.55|  28.0|      1.0|\n",
       "       0|    0|    0| 27.7208|  28.0|      1.0|\n",
       "       0|    0|    0| 27.7208|  28.0|      1.0|\n",
       "       0|    0|    0| 30.6958|  28.0|      1.0|\n",
       "       0|    0|    0|    35.0|  28.0|      1.0|\n",
       "       0|    0|    0|    39.6|  28.0|      1.0|\n",
       "       0|    0|    0|    42.4|  28.0|      1.0|\n",
       "       0|    0|    0|    50.0|  28.0|      1.0|\n",
       "       0|    0|    0| 227.525|  28.0|      1.0|\n",
       "       0|    1|    0|   108.9|  18.0|      1.0|\n",
       "       0|    1|    0|    53.1|  19.0|      1.0|\n",
       "       0|    3|    2|   263.0|  19.0|      1.0|\n",
       "       0|    0|    0|135.6333|  22.0|      1.0|\n",
       "       0|    0|    0|    79.2|  24.0|      1.0|\n",
       "       0|    0|    1|247.5208|  24.0|      1.0|\n",
       "       0|    1|    2|  151.55|  25.0|      1.0|\n",
       "       0|    0|    2|   211.5|  27.0|      1.0|\n",
       "+--------+-----+-----+--------+------+---------+\n",
       "only showing top 20 rows\n",
       "\n",
       "</div>"
      ]
     },
     "metadata": {},
     "output_type": "display_data"
    }
   ],
   "source": [
    "dftrain.show()"
   ]
  },
  {
   "cell_type": "code",
   "execution_count": 17,
   "metadata": {},
   "outputs": [
    {
     "data": {
      "text/html": [
       "<style scoped>\n",
       "  .ansiout {\n",
       "    display: block;\n",
       "    unicode-bidi: embed;\n",
       "    white-space: pre-wrap;\n",
       "    word-wrap: break-word;\n",
       "    word-break: break-all;\n",
       "    font-family: \"Source Code Pro\", \"Menlo\", monospace;;\n",
       "    font-size: 13px;\n",
       "    color: #555;\n",
       "    margin-left: 4px;\n",
       "    line-height: 19px;\n",
       "  }\n",
       "</style>\n",
       "<div class=\"ansiout\">+--------+-----+-----+-------+------+-------------+\n",
       "Survived|SibSp|Parch|   Fare|impAge|    ohePclass|\n",
       "+--------+-----+-----+-------+------+-------------+\n",
       "       0|    0|    0|   35.0|  28.0|(4,[1],[1.0])|\n",
       "       0|    1|    2| 151.55|  25.0|(4,[1],[1.0])|\n",
       "       0|    2|    0|   90.0|  44.0|(4,[1],[1.0])|\n",
       "       0|    0|    0|30.6958|  56.0|(4,[1],[1.0])|\n",
       "       0|    0|    0|32.3208|  61.0|(4,[1],[1.0])|\n",
       "       0|    0|    0|   26.0|  64.0|(4,[1],[1.0])|\n",
       "       0|    0|    0|49.5042|  71.0|(4,[1],[1.0])|\n",
       "       0|    0|    0|    0.0|  28.0|(4,[2],[1.0])|\n",
       "       0|    0|    0|  15.05|  28.0|(4,[2],[1.0])|\n",
       "       0|    0|    0|   11.5|  18.0|(4,[2],[1.0])|\n",
       "       0|    0|    0|   13.0|  23.0|(4,[2],[1.0])|\n",
       "       0|    1|    2|41.5792|  25.0|(4,[2],[1.0])|\n",
       "       0|    0|    0|   10.5|  31.0|(4,[2],[1.0])|\n",
       "       0|    1|    1|  26.25|  31.0|(4,[2],[1.0])|\n",
       "       0|    0|    0|   26.0|  54.0|(4,[2],[1.0])|\n",
       "       0|    0|    0| 7.2292|  28.0|(4,[0],[1.0])|\n",
       "       0|    0|    0| 7.6292|  28.0|(4,[0],[1.0])|\n",
       "       0|    0|    0|   8.05|  28.0|(4,[0],[1.0])|\n",
       "       0|    0|    0|    9.5|  28.0|(4,[0],[1.0])|\n",
       "       0|    0|    0|   14.5|  28.0|(4,[0],[1.0])|\n",
       "+--------+-----+-----+-------+------+-------------+\n",
       "\n",
       "</div>"
      ]
     },
     "metadata": {},
     "output_type": "display_data"
    }
   ],
   "source": [
    "from pyspark.ml.feature import OneHotEncoderEstimator\n",
    "ohe=OneHotEncoderEstimator(handleInvalid='keep', dropLast=True, inputCols=['idxPclass'], outputCols=['ohePclass']).fit(dftrain)\n",
    "dftrain=ohe.transform(dftrain)\n",
    "dftrain=dftrain.drop('idxPclass')\n",
    "dftrain.sample(withReplacement=False, fraction=0.1).limit(20).show()"
   ]
  },
  {
   "cell_type": "code",
   "execution_count": 18,
   "metadata": {},
   "outputs": [
    {
     "data": {
      "text/html": [
       "<style scoped>\n",
       "  .ansiout {\n",
       "    display: block;\n",
       "    unicode-bidi: embed;\n",
       "    white-space: pre-wrap;\n",
       "    word-wrap: break-word;\n",
       "    word-break: break-all;\n",
       "    font-family: \"Source Code Pro\", \"Menlo\", monospace;;\n",
       "    font-size: 13px;\n",
       "    color: #555;\n",
       "    margin-left: 4px;\n",
       "    line-height: 19px;\n",
       "  }\n",
       "</style>\n",
       "<div class=\"ansiout\">+--------+--------------------+\n",
       "Survived|            features|\n",
       "+--------+--------------------+\n",
       "       0|(8,[3,5],[28.0,1.0])|\n",
       "       0|(8,[3,5],[28.0,1.0])|\n",
       "       0|(8,[2,3,5],[25.92...|\n",
       "       0|(8,[2,3,5],[26.55...|\n",
       "       0|(8,[2,3,5],[27.72...|\n",
       "       0|(8,[2,3,5],[27.72...|\n",
       "       0|(8,[2,3,5],[30.69...|\n",
       "       0|(8,[2,3,5],[35.0,...|\n",
       "       0|(8,[2,3,5],[39.6,...|\n",
       "       0|(8,[2,3,5],[42.4,...|\n",
       "       0|(8,[2,3,5],[50.0,...|\n",
       "       0|(8,[2,3,5],[227.5...|\n",
       "       0|(8,[0,2,3,5],[1.0...|\n",
       "       0|(8,[0,2,3,5],[1.0...|\n",
       "       0|[3.0,2.0,263.0,19...|\n",
       "       0|(8,[2,3,5],[135.6...|\n",
       "       0|(8,[2,3,5],[79.2,...|\n",
       "       0|(8,[1,2,3,5],[1.0...|\n",
       "       0|[1.0,2.0,151.55,2...|\n",
       "       0|(8,[1,2,3,5],[2.0...|\n",
       "+--------+--------------------+\n",
       "only showing top 20 rows\n",
       "\n",
       "</div>"
      ]
     },
     "metadata": {},
     "output_type": "display_data"
    }
   ],
   "source": [
    "from pyspark.ml.feature import VectorAssembler\n",
    "va = VectorAssembler(inputCols=['SibSp', 'Parch', 'Fare', 'impAge', 'ohePclass'],\n",
    "                    outputCol='features')\n",
    "dftrain=va.transform(dftrain)\n",
    "dftrain = dftrain.drop('SibSp', 'Parch', 'Fare', 'impAge', 'ohePclass')\n",
    "dftrain.show()"
   ]
  },
  {
   "cell_type": "code",
   "execution_count": 19,
   "metadata": {},
   "outputs": [
    {
     "data": {
      "text/html": [
       "<style scoped>\n",
       "  .ansiout {\n",
       "    display: block;\n",
       "    unicode-bidi: embed;\n",
       "    white-space: pre-wrap;\n",
       "    word-wrap: break-word;\n",
       "    word-break: break-all;\n",
       "    font-family: \"Source Code Pro\", \"Menlo\", monospace;;\n",
       "    font-size: 13px;\n",
       "    color: #555;\n",
       "    margin-left: 4px;\n",
       "    line-height: 19px;\n",
       "  }\n",
       "</style>\n",
       "<div class=\"ansiout\"></div>"
      ]
     },
     "metadata": {},
     "output_type": "display_data"
    }
   ],
   "source": [
    "from pyspark.ml.classification import RandomForestClassifier\n",
    "rfc = RandomForestClassifier(labelCol=\"Survived\", featuresCol=\"features\", numTrees=100).fit(dftrain)"
   ]
  },
  {
   "cell_type": "code",
   "execution_count": 20,
   "metadata": {},
   "outputs": [
    {
     "data": {
      "text/html": [
       "<style scoped>\n",
       "  .ansiout {\n",
       "    display: block;\n",
       "    unicode-bidi: embed;\n",
       "    white-space: pre-wrap;\n",
       "    word-wrap: break-word;\n",
       "    word-break: break-all;\n",
       "    font-family: \"Source Code Pro\", \"Menlo\", monospace;;\n",
       "    font-size: 13px;\n",
       "    color: #555;\n",
       "    margin-left: 4px;\n",
       "    line-height: 19px;\n",
       "  }\n",
       "</style>\n",
       "<div class=\"ansiout\">+--------+------+----+-----+-----+--------+\n",
       "Survived|Pclass| Age|SibSp|Parch|    Fare|\n",
       "+--------+------+----+-----+-----+--------+\n",
       "       0|     1|null|    0|    0|    26.0|\n",
       "       0|     1|null|    0|    0|    31.0|\n",
       "       0|     1|null|    0|    0|    52.0|\n",
       "       0|     1|null|    0|    0|221.7792|\n",
       "       0|     1| 2.0|    1|    2|  151.55|\n",
       "       0|     1|21.0|    0|    1| 77.2875|\n",
       "       0|     1|39.0|    0|    0|     0.0|\n",
       "       0|     1|46.0|    0|    0|    79.2|\n",
       "       0|     1|50.0|    0|    0| 28.7125|\n",
       "       0|     1|50.0|    1|    0|    55.9|\n",
       "       0|     1|58.0|    0|    2| 113.275|\n",
       "       0|     1|60.0|    0|    0|   26.55|\n",
       "       0|     1|62.0|    0|    0|   26.55|\n",
       "       0|     1|65.0|    0|    0|   26.55|\n",
       "       0|     1|70.0|    1|    1|    71.0|\n",
       "       0|     2|16.0|    0|    0|    10.5|\n",
       "       0|     2|18.0|    0|    0|    13.0|\n",
       "       0|     2|21.0|    2|    0|    73.5|\n",
       "       0|     2|23.0|    0|    0|    10.5|\n",
       "       0|     2|24.0|    0|    0|    10.5|\n",
       "+--------+------+----+-----+-----+--------+\n",
       "only showing top 20 rows\n",
       "\n",
       "</div>"
      ]
     },
     "metadata": {},
     "output_type": "display_data"
    }
   ],
   "source": [
    "dftest.show()"
   ]
  },
  {
   "cell_type": "code",
   "execution_count": 21,
   "metadata": {},
   "outputs": [
    {
     "data": {
      "text/html": [
       "<style scoped>\n",
       "  .ansiout {\n",
       "    display: block;\n",
       "    unicode-bidi: embed;\n",
       "    white-space: pre-wrap;\n",
       "    word-wrap: break-word;\n",
       "    word-break: break-all;\n",
       "    font-family: \"Source Code Pro\", \"Menlo\", monospace;;\n",
       "    font-size: 13px;\n",
       "    color: #555;\n",
       "    margin-left: 4px;\n",
       "    line-height: 19px;\n",
       "  }\n",
       "</style>\n",
       "<div class=\"ansiout\"></div>"
      ]
     },
     "metadata": {},
     "output_type": "display_data"
    }
   ],
   "source": [
    "dftest = impage.transform(dftest)\n",
    "dftest = dftest.drop('Age')"
   ]
  },
  {
   "cell_type": "code",
   "execution_count": 22,
   "metadata": {},
   "outputs": [
    {
     "data": {
      "text/html": [
       "<style scoped>\n",
       "  .ansiout {\n",
       "    display: block;\n",
       "    unicode-bidi: embed;\n",
       "    white-space: pre-wrap;\n",
       "    word-wrap: break-word;\n",
       "    word-break: break-all;\n",
       "    font-family: \"Source Code Pro\", \"Menlo\", monospace;;\n",
       "    font-size: 13px;\n",
       "    color: #555;\n",
       "    margin-left: 4px;\n",
       "    line-height: 19px;\n",
       "  }\n",
       "</style>\n",
       "<div class=\"ansiout\"></div>"
      ]
     },
     "metadata": {},
     "output_type": "display_data"
    }
   ],
   "source": [
    "dftest = sipclass.transform(dftest)\n",
    "dftest = dftest.drop('Pclass')\n",
    "dftest = ohe.transform(dftest)\n",
    "dftest = dftest.drop('idxPclass')"
   ]
  },
  {
   "cell_type": "code",
   "execution_count": 23,
   "metadata": {},
   "outputs": [
    {
     "data": {
      "text/html": [
       "<style scoped>\n",
       "  .ansiout {\n",
       "    display: block;\n",
       "    unicode-bidi: embed;\n",
       "    white-space: pre-wrap;\n",
       "    word-wrap: break-word;\n",
       "    word-break: break-all;\n",
       "    font-family: \"Source Code Pro\", \"Menlo\", monospace;;\n",
       "    font-size: 13px;\n",
       "    color: #555;\n",
       "    margin-left: 4px;\n",
       "    line-height: 19px;\n",
       "  }\n",
       "</style>\n",
       "<div class=\"ansiout\">+--------+--------------------+\n",
       "Survived|            features|\n",
       "+--------+--------------------+\n",
       "       0|(8,[2,3,5],[26.0,...|\n",
       "       0|(8,[2,3,5],[31.0,...|\n",
       "       0|(8,[2,3,5],[52.0,...|\n",
       "       0|(8,[2,3,5],[221.7...|\n",
       "       0|[1.0,2.0,151.55,2...|\n",
       "       0|(8,[1,2,3,5],[1.0...|\n",
       "       0|(8,[3,5],[39.0,1.0])|\n",
       "       0|(8,[2,3,5],[79.2,...|\n",
       "       0|(8,[2,3,5],[28.71...|\n",
       "       0|(8,[0,2,3,5],[1.0...|\n",
       "       0|(8,[1,2,3,5],[2.0...|\n",
       "       0|(8,[2,3,5],[26.55...|\n",
       "       0|(8,[2,3,5],[26.55...|\n",
       "       0|(8,[2,3,5],[26.55...|\n",
       "       0|[1.0,1.0,71.0,70....|\n",
       "       0|(8,[2,3,6],[10.5,...|\n",
       "       0|(8,[2,3,6],[13.0,...|\n",
       "       0|(8,[0,2,3,6],[2.0...|\n",
       "       0|(8,[2,3,6],[10.5,...|\n",
       "       0|(8,[2,3,6],[10.5,...|\n",
       "+--------+--------------------+\n",
       "only showing top 20 rows\n",
       "\n",
       "</div>"
      ]
     },
     "metadata": {},
     "output_type": "display_data"
    }
   ],
   "source": [
    "dftest = va.transform(dftest)\n",
    "dftest = dftest.drop('SibSp','Parch','Fare','impAge','ohePclass')\n",
    "dftest.show()"
   ]
  },
  {
   "cell_type": "code",
   "execution_count": 24,
   "metadata": {},
   "outputs": [
    {
     "data": {
      "text/html": [
       "<style scoped>\n",
       "  .ansiout {\n",
       "    display: block;\n",
       "    unicode-bidi: embed;\n",
       "    white-space: pre-wrap;\n",
       "    word-wrap: break-word;\n",
       "    word-break: break-all;\n",
       "    font-family: \"Source Code Pro\", \"Menlo\", monospace;;\n",
       "    font-size: 13px;\n",
       "    color: #555;\n",
       "    margin-left: 4px;\n",
       "    line-height: 19px;\n",
       "  }\n",
       "</style>\n",
       "<div class=\"ansiout\">+--------+--------------------+--------------------+--------------------+----------+\n",
       "Survived|            features|       rawPrediction|         probability|prediction|\n",
       "+--------+--------------------+--------------------+--------------------+----------+\n",
       "       0|(8,[2,3,5],[26.0,...|[51.9852137802747...|[0.51985213780274...|       0.0|\n",
       "       0|(8,[2,3,5],[31.0,...|[49.6440710366755...|[0.49644071036675...|       1.0|\n",
       "       0|(8,[2,3,5],[52.0,...|[49.5799987671791...|[0.49579998767179...|       1.0|\n",
       "       0|(8,[2,3,5],[221.7...|[31.5420426535563...|[0.31542042653556...|       1.0|\n",
       "       0|[1.0,2.0,151.55,2...|[17.4365502310762...|[0.17436550231076...|       1.0|\n",
       "       0|(8,[1,2,3,5],[1.0...|[22.9065049620012...|[0.22906504962001...|       1.0|\n",
       "       0|(8,[3,5],[39.0,1.0])|[74.9125223819567...|[0.74912522381956...|       0.0|\n",
       "       0|(8,[2,3,5],[79.2,...|[30.7504060697562...|[0.30750406069756...|       1.0|\n",
       "       0|(8,[2,3,5],[28.71...|[50.6147227730389...|[0.50614722773038...|       0.0|\n",
       "       0|(8,[0,2,3,5],[1.0...|[29.7117950125545...|[0.29711795012554...|       1.0|\n",
       "       0|(8,[1,2,3,5],[2.0...|[30.6365730017668...|[0.30636573001766...|       1.0|\n",
       "       0|(8,[2,3,5],[26.55...|[56.9154838826428...|[0.56915483882642...|       0.0|\n",
       "       0|(8,[2,3,5],[26.55...|[56.9154838826428...|[0.56915483882642...|       0.0|\n",
       "       0|(8,[2,3,5],[26.55...|[56.9154838826428...|[0.56915483882642...|       0.0|\n",
       "       0|[1.0,1.0,71.0,70....|[33.1462011936040...|[0.33146201193604...|       1.0|\n",
       "       0|(8,[2,3,6],[10.5,...|[45.5008850056445...|[0.45500885005644...|       1.0|\n",
       "       0|(8,[2,3,6],[13.0,...|[55.5561910255048...|[0.55556191025504...|       0.0|\n",
       "       0|(8,[0,2,3,6],[2.0...|[52.8392156821053...|[0.52839215682105...|       0.0|\n",
       "       0|(8,[2,3,6],[10.5,...|[62.7254737764824...|[0.62725473776482...|       0.0|\n",
       "       0|(8,[2,3,6],[10.5,...|[62.7254737764824...|[0.62725473776482...|       0.0|\n",
       "+--------+--------------------+--------------------+--------------------+----------+\n",
       "only showing top 20 rows\n",
       "\n",
       "</div>"
      ]
     },
     "metadata": {},
     "output_type": "display_data"
    }
   ],
   "source": [
    "# predict using random forest classifier on test data\n",
    "predictions = rfc.transform(dftest)\n",
    "predictions.show()"
   ]
  },
  {
   "cell_type": "code",
   "execution_count": 25,
   "metadata": {},
   "outputs": [
    {
     "data": {
      "text/html": [
       "<style scoped>\n",
       "  .ansiout {\n",
       "    display: block;\n",
       "    unicode-bidi: embed;\n",
       "    white-space: pre-wrap;\n",
       "    word-wrap: break-word;\n",
       "    word-break: break-all;\n",
       "    font-family: \"Source Code Pro\", \"Menlo\", monospace;;\n",
       "    font-size: 13px;\n",
       "    color: #555;\n",
       "    margin-left: 4px;\n",
       "    line-height: 19px;\n",
       "  }\n",
       "</style>\n",
       "<div class=\"ansiout\"><span class=\"ansired\">Out[</span><span class=\"ansired\">31</span><span class=\"ansired\">]: </span>0.7682926829268293\n",
       "</div>"
      ]
     },
     "metadata": {},
     "output_type": "display_data"
    }
   ],
   "source": [
    "# evaluate prediction results\n",
    "from pyspark.ml.evaluation import MulticlassClassificationEvaluator\n",
    "evaluator = MulticlassClassificationEvaluator(\n",
    "labelCol=\"Survived\",\n",
    "predictionCol=\"prediction\",\n",
    "metricName=\"accuracy\")\n",
    "evaluator.evaluate(predictions)"
   ]
  },
  {
   "cell_type": "code",
   "execution_count": 26,
   "metadata": {},
   "outputs": [],
   "source": []
  }
 ],
 "metadata": {
  "kernelspec": {
   "display_name": "Python 3",
   "language": "python",
   "name": "python3"
  },
  "language_info": {
   "codemirror_mode": {
    "name": "ipython",
    "version": 3
   },
   "file_extension": ".py",
   "mimetype": "text/x-python",
   "name": "python",
   "nbconvert_exporter": "python",
   "pygments_lexer": "ipython3",
   "version": "3.6.8"
  },
  "name": "2_20_2019_class",
  "notebookId": 4337521915853912
 },
 "nbformat": 4,
 "nbformat_minor": 1
}
