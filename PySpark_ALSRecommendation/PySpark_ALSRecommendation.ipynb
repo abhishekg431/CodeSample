{
 "cells": [
  {
   "cell_type": "code",
   "execution_count": 1,
   "metadata": {},
   "outputs": [
    {
     "data": {
      "text/html": [
       "<style scoped>\n",
       "  .ansiout {\n",
       "    display: block;\n",
       "    unicode-bidi: embed;\n",
       "    white-space: pre-wrap;\n",
       "    word-wrap: break-word;\n",
       "    word-break: break-all;\n",
       "    font-family: \"Source Code Pro\", \"Menlo\", monospace;;\n",
       "    font-size: 13px;\n",
       "    color: #555;\n",
       "    margin-left: 4px;\n",
       "    line-height: 19px;\n",
       "  }\n",
       "</style>\n",
       "<div class=\"ansiout\"></div>"
      ]
     },
     "metadata": {},
     "output_type": "display_data"
    }
   ],
   "source": [
    "from pyspark.sql import SparkSession"
   ]
  },
  {
   "cell_type": "code",
   "execution_count": 2,
   "metadata": {},
   "outputs": [
    {
     "data": {
      "text/html": [
       "<style scoped>\n",
       "  .table-result-container {\n",
       "    max-height: 300px;\n",
       "    overflow: auto;\n",
       "  }\n",
       "  table, th, td {\n",
       "    border: 1px solid black;\n",
       "    border-collapse: collapse;\n",
       "  }\n",
       "  th, td {\n",
       "    padding: 5px;\n",
       "  }\n",
       "  th {\n",
       "    text-align: left;\n",
       "  }\n",
       "</style><div class='table-result-container'><table class='table-result'><thead style='background-color: white'><tr><th>path</th><th>name</th><th>size</th></tr></thead><tbody><tr><td>dbfs:/FileStore/tables/README.txt</td><td>README.txt</td><td>8342</td></tr><tr><td>dbfs:/FileStore/tables/iris_data-04fff.csv</td><td>iris_data-04fff.csv</td><td>4642</td></tr><tr><td>dbfs:/FileStore/tables/links.csv</td><td>links.csv</td><td>197979</td></tr><tr><td>dbfs:/FileStore/tables/model/</td><td>model/</td><td>0</td></tr><tr><td>dbfs:/FileStore/tables/movies.csv</td><td>movies.csv</td><td>494431</td></tr><tr><td>dbfs:/FileStore/tables/ratings.csv</td><td>ratings.csv</td><td>2483723</td></tr><tr><td>dbfs:/FileStore/tables/tags.csv</td><td>tags.csv</td><td>118660</td></tr><tr><td>dbfs:/FileStore/tables/test.data</td><td>test.data</td><td>142</td></tr><tr><td>dbfs:/FileStore/tables/train.csv</td><td>train.csv</td><td>61194</td></tr></tbody></table></div>"
      ]
     },
     "metadata": {},
     "output_type": "display_data"
    }
   ],
   "source": [
    "%fs ls dbfs:/FileStore/tables"
   ]
  },
  {
   "cell_type": "code",
   "execution_count": 3,
   "metadata": {},
   "outputs": [
    {
     "data": {
      "text/html": [
       "<style scoped>\n",
       "  .ansiout {\n",
       "    display: block;\n",
       "    unicode-bidi: embed;\n",
       "    white-space: pre-wrap;\n",
       "    word-wrap: break-word;\n",
       "    word-break: break-all;\n",
       "    font-family: \"Source Code Pro\", \"Menlo\", monospace;;\n",
       "    font-size: 13px;\n",
       "    color: #555;\n",
       "    margin-left: 4px;\n",
       "    line-height: 19px;\n",
       "  }\n",
       "</style>\n",
       "<div class=\"ansiout\"></div>"
      ]
     },
     "metadata": {},
     "output_type": "display_data"
    }
   ],
   "source": [
    "data = spark.read.csv('dbfs:/FileStore/tables/ratings.csv', inferSchema=True, header=True)"
   ]
  },
  {
   "cell_type": "code",
   "execution_count": 4,
   "metadata": {},
   "outputs": [
    {
     "data": {
      "text/html": [
       "<style scoped>\n",
       "  .ansiout {\n",
       "    display: block;\n",
       "    unicode-bidi: embed;\n",
       "    white-space: pre-wrap;\n",
       "    word-wrap: break-word;\n",
       "    word-break: break-all;\n",
       "    font-family: \"Source Code Pro\", \"Menlo\", monospace;;\n",
       "    font-size: 13px;\n",
       "    color: #555;\n",
       "    margin-left: 4px;\n",
       "    line-height: 19px;\n",
       "  }\n",
       "</style>\n",
       "<div class=\"ansiout\">+------+-------+------+---------+\n",
       "userId|movieId|rating|timestamp|\n",
       "+------+-------+------+---------+\n",
       "     1|      1|   4.0|964982703|\n",
       "     1|      3|   4.0|964981247|\n",
       "     1|      6|   4.0|964982224|\n",
       "     1|     47|   5.0|964983815|\n",
       "     1|     50|   5.0|964982931|\n",
       "     1|     70|   3.0|964982400|\n",
       "     1|    101|   5.0|964980868|\n",
       "     1|    110|   4.0|964982176|\n",
       "     1|    151|   5.0|964984041|\n",
       "     1|    157|   5.0|964984100|\n",
       "     1|    163|   5.0|964983650|\n",
       "     1|    216|   5.0|964981208|\n",
       "     1|    223|   3.0|964980985|\n",
       "     1|    231|   5.0|964981179|\n",
       "     1|    235|   4.0|964980908|\n",
       "     1|    260|   5.0|964981680|\n",
       "     1|    296|   3.0|964982967|\n",
       "     1|    316|   3.0|964982310|\n",
       "     1|    333|   5.0|964981179|\n",
       "     1|    349|   4.0|964982563|\n",
       "+------+-------+------+---------+\n",
       "only showing top 20 rows\n",
       "\n",
       "<span class=\"ansired\">Out[</span><span class=\"ansired\">6</span><span class=\"ansired\">]: </span>DataFrame[summary: string, userId: string, movieId: string, rating: string, timestamp: string]\n",
       "</div>"
      ]
     },
     "metadata": {},
     "output_type": "display_data"
    }
   ],
   "source": [
    "data.show()\n",
    "data.describe()\n"
   ]
  },
  {
   "cell_type": "code",
   "execution_count": 5,
   "metadata": {},
   "outputs": [
    {
     "data": {
      "text/html": [
       "<style scoped>\n",
       "  .ansiout {\n",
       "    display: block;\n",
       "    unicode-bidi: embed;\n",
       "    white-space: pre-wrap;\n",
       "    word-wrap: break-word;\n",
       "    word-break: break-all;\n",
       "    font-family: \"Source Code Pro\", \"Menlo\", monospace;;\n",
       "    font-size: 13px;\n",
       "    color: #555;\n",
       "    margin-left: 4px;\n",
       "    line-height: 19px;\n",
       "  }\n",
       "</style>\n",
       "<div class=\"ansiout\"></div>"
      ]
     },
     "metadata": {},
     "output_type": "display_data"
    }
   ],
   "source": [
    "# train test split\n",
    "train_data, test_data = data.randomSplit([0.8,0.2])"
   ]
  },
  {
   "cell_type": "code",
   "execution_count": 6,
   "metadata": {},
   "outputs": [
    {
     "data": {
      "text/html": [
       "<style scoped>\n",
       "  .ansiout {\n",
       "    display: block;\n",
       "    unicode-bidi: embed;\n",
       "    white-space: pre-wrap;\n",
       "    word-wrap: break-word;\n",
       "    word-break: break-all;\n",
       "    font-family: \"Source Code Pro\", \"Menlo\", monospace;;\n",
       "    font-size: 13px;\n",
       "    color: #555;\n",
       "    margin-left: 4px;\n",
       "    line-height: 19px;\n",
       "  }\n",
       "</style>\n",
       "<div class=\"ansiout\"></div>"
      ]
     },
     "metadata": {},
     "output_type": "display_data"
    }
   ],
   "source": [
    "# instantiate model\n",
    "from pyspark.ml.recommendation import ALS\n",
    "als = ALS(maxIter=5,regParam=0.01,userCol='userId',itemCol='movieId',ratingCol='rating',coldStartStrategy='drop')\n"
   ]
  },
  {
   "cell_type": "code",
   "execution_count": 7,
   "metadata": {},
   "outputs": [
    {
     "data": {
      "text/html": [
       "<style scoped>\n",
       "  .ansiout {\n",
       "    display: block;\n",
       "    unicode-bidi: embed;\n",
       "    white-space: pre-wrap;\n",
       "    word-wrap: break-word;\n",
       "    word-break: break-all;\n",
       "    font-family: \"Source Code Pro\", \"Menlo\", monospace;;\n",
       "    font-size: 13px;\n",
       "    color: #555;\n",
       "    margin-left: 4px;\n",
       "    line-height: 19px;\n",
       "  }\n",
       "</style>\n",
       "<div class=\"ansiout\"></div>"
      ]
     },
     "metadata": {},
     "output_type": "display_data"
    }
   ],
   "source": [
    "# train\n",
    "als_model = als.fit(train_data)\n"
   ]
  },
  {
   "cell_type": "code",
   "execution_count": 8,
   "metadata": {},
   "outputs": [
    {
     "data": {
      "text/html": [
       "<style scoped>\n",
       "  .ansiout {\n",
       "    display: block;\n",
       "    unicode-bidi: embed;\n",
       "    white-space: pre-wrap;\n",
       "    word-wrap: break-word;\n",
       "    word-break: break-all;\n",
       "    font-family: \"Source Code Pro\", \"Menlo\", monospace;;\n",
       "    font-size: 13px;\n",
       "    color: #555;\n",
       "    margin-left: 4px;\n",
       "    line-height: 19px;\n",
       "  }\n",
       "</style>\n",
       "<div class=\"ansiout\">+------+-------+------+----------+----------+\n",
       "userId|movieId|rating| timestamp|prediction|\n",
       "+------+-------+------+----------+----------+\n",
       "   385|    471|   4.0| 850766697| 3.0721703|\n",
       "    91|    471|   1.0|1112713817| 4.0130324|\n",
       "   599|    471|   2.5|1498518822|  3.537553|\n",
       "   474|    471|   3.0| 974668858|  4.137152|\n",
       "   500|    471|   1.0|1005528017| 1.7068686|\n",
       "   411|    471|   4.0| 835532928| 2.8676724|\n",
       "   357|    471|   3.5|1348627082| 4.2704654|\n",
       "   104|    471|   4.5|1238111129| 4.0144353|\n",
       "   492|    833|   4.0| 863976674| 3.0728278|\n",
       "   599|   1088|   2.5|1498515232|  2.172123|\n",
       "   111|   1088|   3.0|1516153967|  4.338223|\n",
       "   177|   1088|   3.5|1435534616|  3.521076|\n",
       "    20|   1088|   4.5|1054147512|  4.068862|\n",
       "   554|   1088|   5.0| 944900489| 3.6426415|\n",
       "   381|   1088|   3.5|1168664508| 3.4716637|\n",
       "   594|   1088|   4.5|1109035643| 5.2141457|\n",
       "   555|   1088|   4.0| 978822670| 3.8722618|\n",
       "    84|   1088|   3.0| 860398568|  3.802003|\n",
       "    51|   1088|   4.0|1230929736| 3.0754051|\n",
       "   509|   1088|   3.0|1435992808| 3.4773562|\n",
       "+------+-------+------+----------+----------+\n",
       "only showing top 20 rows\n",
       "\n",
       "</div>"
      ]
     },
     "metadata": {},
     "output_type": "display_data"
    }
   ],
   "source": [
    "# test\n",
    "predictions = als_model.transform(test_data)\n",
    "predictions.show()"
   ]
  },
  {
   "cell_type": "code",
   "execution_count": 9,
   "metadata": {},
   "outputs": [
    {
     "data": {
      "text/html": [
       "<style scoped>\n",
       "  .ansiout {\n",
       "    display: block;\n",
       "    unicode-bidi: embed;\n",
       "    white-space: pre-wrap;\n",
       "    word-wrap: break-word;\n",
       "    word-break: break-all;\n",
       "    font-family: \"Source Code Pro\", \"Menlo\", monospace;;\n",
       "    font-size: 13px;\n",
       "    color: #555;\n",
       "    margin-left: 4px;\n",
       "    line-height: 19px;\n",
       "  }\n",
       "</style>\n",
       "<div class=\"ansiout\"><span class=\"ansired\">Out[</span><span class=\"ansired\">13</span><span class=\"ansired\">]: </span>1.0777512948534018\n",
       "</div>"
      ]
     },
     "metadata": {},
     "output_type": "display_data"
    }
   ],
   "source": [
    "# evaluate\n",
    "from pyspark.ml.evaluation import RegressionEvaluator\n",
    "evaluator = RegressionEvaluator(metricName='rmse',labelCol='rating',predictionCol='prediction')\n",
    "rmse = evaluator.evaluate(predictions)\n",
    "rmse"
   ]
  },
  {
   "cell_type": "code",
   "execution_count": 10,
   "metadata": {},
   "outputs": [
    {
     "data": {
      "text/html": [
       "<style scoped>\n",
       "  .ansiout {\n",
       "    display: block;\n",
       "    unicode-bidi: embed;\n",
       "    white-space: pre-wrap;\n",
       "    word-wrap: break-word;\n",
       "    word-break: break-all;\n",
       "    font-family: \"Source Code Pro\", \"Menlo\", monospace;;\n",
       "    font-size: 13px;\n",
       "    color: #555;\n",
       "    margin-left: 4px;\n",
       "    line-height: 19px;\n",
       "  }\n",
       "</style>\n",
       "<div class=\"ansiout\">+-------+------+\n",
       "movieId|userId|\n",
       "+-------+------+\n",
       "     47|     1|\n",
       "    163|     1|\n",
       "    216|     1|\n",
       "    441|     1|\n",
       "    500|     1|\n",
       "    543|     1|\n",
       "    590|     1|\n",
       "    608|     1|\n",
       "    661|     1|\n",
       "    919|     1|\n",
       "    923|     1|\n",
       "   1042|     1|\n",
       "   1060|     1|\n",
       "   1073|     1|\n",
       "   1089|     1|\n",
       "   1214|     1|\n",
       "   1219|     1|\n",
       "   1256|     1|\n",
       "   1258|     1|\n",
       "   1348|     1|\n",
       "+-------+------+\n",
       "only showing top 20 rows\n",
       "\n",
       "+-------+------+----------+\n",
       "movieId|userId|prediction|\n",
       "+-------+------+----------+\n",
       "   3441|     1|  5.512255|\n",
       "    441|     1| 5.4064555|\n",
       "   1060|     1|  5.180235|\n",
       "   1089|     1| 5.1449475|\n",
       "    608|     1|  5.142498|\n",
       "    923|     1|  5.099044|\n",
       "   4006|     1| 4.9879127|\n",
       "   3062|     1|  4.930221|\n",
       "   1408|     1| 4.9165382|\n",
       "     47|     1| 4.9141936|\n",
       "   2406|     1|  4.871222|\n",
       "   1258|     1|  4.859664|\n",
       "   1927|     1| 4.8524404|\n",
       "   1954|     1|  4.786693|\n",
       "   1219|     1|  4.746825|\n",
       "   3448|     1| 4.7174773|\n",
       "   1214|     1|  4.696525|\n",
       "   2414|     1|  4.678077|\n",
       "   2115|     1|  4.629385|\n",
       "   2761|     1| 4.6205077|\n",
       "+-------+------+----------+\n",
       "only showing top 20 rows\n",
       "\n",
       "</div>"
      ]
     },
     "metadata": {},
     "output_type": "display_data"
    }
   ],
   "source": [
    "# make predictions for single user\n",
    "single_user = test_data.filter(test_data['userId']==1).select(['movieId','userId'])\n",
    "single_user.show()\n",
    "recommendations = als_model.transform(single_user)\n",
    "recommendations.orderBy('prediction',ascending=False).show()"
   ]
  },
  {
   "cell_type": "code",
   "execution_count": 11,
   "metadata": {},
   "outputs": [],
   "source": []
  }
 ],
 "metadata": {
  "kernelspec": {
   "display_name": "Python 3",
   "language": "python",
   "name": "python3"
  },
  "language_info": {
   "codemirror_mode": {
    "name": "ipython",
    "version": 3
   },
   "file_extension": ".py",
   "mimetype": "text/x-python",
   "name": "python",
   "nbconvert_exporter": "python",
   "pygments_lexer": "ipython3",
   "version": "3.6.8"
  },
  "name": "PySpark_ALSRecommendation",
  "notebookId": 1421430791153698
 },
 "nbformat": 4,
 "nbformat_minor": 1
}
